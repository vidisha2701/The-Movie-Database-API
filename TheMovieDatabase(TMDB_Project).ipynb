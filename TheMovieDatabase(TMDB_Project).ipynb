{
 "cells": [
  {
   "cell_type": "markdown",
   "id": "8cf9fc2d",
   "metadata": {},
   "source": [
    "# Ques1:TMDb1.1"
   ]
  },
  {
   "cell_type": "code",
   "execution_count": 1,
   "id": "fdb3f9b4",
   "metadata": {},
   "outputs": [],
   "source": [
    "#Find the 'id' of the movie \"Andhadhun\" using TMDb API.\n",
    "#Output Format:Print the id of the movie."
   ]
  },
  {
   "cell_type": "code",
   "execution_count": 3,
   "id": "6de4bb4c",
   "metadata": {},
   "outputs": [
    {
     "name": "stdout",
     "output_type": "stream",
     "text": [
      "534780\n"
     ]
    }
   ],
   "source": [
    "import requests\n",
    "# Write your code here\n",
    "url=\"https://api.themoviedb.org/3/search/movie\"\n",
    "query='Andhadhun'\n",
    "params={'api_key':'ed0ca52d6523bf1f96b88ff05f0efd35','query':query}\n",
    "response=requests.get(url,params=params)\n",
    "# Extract the movie_id from response\n",
    "movie_id=None\n",
    "if response.status_code==200:\n",
    "    data=response.json()\n",
    "    if data['total_results']>0:\n",
    "        movie_id=data['results'][0]['id']\n",
    "print(movie_id)"
   ]
  },
  {
   "cell_type": "markdown",
   "id": "d2d28394",
   "metadata": {},
   "source": [
    "# Ques2:TMDb1.2"
   ]
  },
  {
   "cell_type": "code",
   "execution_count": 4,
   "id": "84f4781c",
   "metadata": {},
   "outputs": [],
   "source": [
    "#Fetch the company id company 'Marvel Studios' using TMDb. Print the id."
   ]
  },
  {
   "cell_type": "code",
   "execution_count": 5,
   "id": "803dd6a6",
   "metadata": {},
   "outputs": [
    {
     "name": "stdout",
     "output_type": "stream",
     "text": [
      "420\n"
     ]
    }
   ],
   "source": [
    "import requests\n",
    "## Write your code here\n",
    "api_key='ed0ca52d6523bf1f96b88ff05f0efd35'\n",
    "api_link=\"https://api.themoviedb.org/3\"\n",
    "params={'query':\"Marvel Studios\",\"api_key\":api_key}\n",
    "header={'Accept':'application/json'}\n",
    "response=requests.get(api_link+\"/search/company\",headers=header,params=params)\n",
    "data=response.json()\n",
    "results=data.get('results')\n",
    "for result in results:\n",
    "    if result.get('name')=='Marvel Studios':\n",
    "          print(result.get('id'))\n",
    "   "
   ]
  },
  {
   "cell_type": "markdown",
   "id": "1e1b8b11",
   "metadata": {},
   "source": [
    "# Ques3:TMDb1.3"
   ]
  },
  {
   "cell_type": "code",
   "execution_count": 1,
   "id": "f3bc49eb",
   "metadata": {},
   "outputs": [],
   "source": [
    "#Find the vote count and vote average of the movie \"3 Idiots\" using the TMDb API\n",
    "#Output format: Vote Count , Vote Average"
   ]
  },
  {
   "cell_type": "code",
   "execution_count": 2,
   "id": "8a200abd",
   "metadata": {},
   "outputs": [
    {
     "name": "stdout",
     "output_type": "stream",
     "text": [
      "2094 7.985\n"
     ]
    }
   ],
   "source": [
    "import requests\n",
    "## Write your code here\n",
    "info={\"api_key\":\"ed0ca52d6523bf1f96b88ff05f0efd35\",\"query\":\"3 Idiots\",\"language\":\"hi\"}\n",
    "response=requests.get(\"https://api.themoviedb.org/3/search/movie\",params=info)\n",
    "python=response.json()[\"results\"]\n",
    "for i in python:\n",
    "    if i[\"original_title\"]==\"3 Idiots\":\n",
    "        print(i[\"vote_count\"],i[\"vote_average\"])"
   ]
  },
  {
   "cell_type": "markdown",
   "id": "1ca1c11b",
   "metadata": {},
   "source": [
    "# Ques4:TMDb1.4"
   ]
  },
  {
   "cell_type": "code",
   "execution_count": 1,
   "id": "c2c0260f",
   "metadata": {},
   "outputs": [],
   "source": [
    "#Fetch the names of top 5 similar movies to 'Inception' from the TMDb API.\n",
    "#Note:While fetching the movie id, use the \"original_title\" field not the \"title\". Because the \"title\" field may contain \n",
    "#duplicate values."
   ]
  },
  {
   "cell_type": "code",
   "execution_count": 8,
   "id": "92137e24",
   "metadata": {},
   "outputs": [
    {
     "name": "stdout",
     "output_type": "stream",
     "text": [
      "Inception\n",
      "The Crack: Inception\n",
      "Inception: The Cobol Job\n",
      "The Inception of Dramatic Representation\n",
      "Inception: Music from the Motion Picture\n"
     ]
    }
   ],
   "source": [
    "import requests\n",
    "\n",
    "api_key='ed0ca52d6523bf1f96b88ff05f0efd35'\n",
    "api_link='https://api.themoviedb.org/3'\n",
    "params={'query':\"Inception\",'api_key':api_key}\n",
    "response=requests.get(api_link+\"/search/movie\",params=params)\n",
    "data=response.json()\n",
    "results=data.get('results')\n",
    "for result in results:\n",
    "    if result.get('original_title')=='Inception':\n",
    "        id=result.get('id')\n",
    "params2={'api_key':api_key}\n",
    "response2=requests.get(api_link+\"/movie/\"+str(973484)+\"/similar\",params=params2)\n",
    "data2=response2.json()\n",
    "results2=data2.get('results')\n",
    "#print(results2)\n",
    "for result in results[:5]:\n",
    "    print(result.get(\"title\"))"
   ]
  },
  {
   "cell_type": "code",
   "execution_count": 6,
   "id": "12b77199",
   "metadata": {},
   "outputs": [
    {
     "name": "stdout",
     "output_type": "stream",
     "text": [
      "27205\n"
     ]
    }
   ],
   "source": [
    "print(id)"
   ]
  },
  {
   "cell_type": "code",
   "execution_count": 7,
   "id": "2dee94d9",
   "metadata": {},
   "outputs": [
    {
     "name": "stdout",
     "output_type": "stream",
     "text": [
      "{'adult': False, 'backdrop_path': None, 'genre_ids': [10402], 'id': 973484, 'original_language': 'en', 'original_title': 'Inception: Music from the Motion Picture', 'overview': 'The Special Features Blu-ray disc contains a lossless DTS-HD MA 5.1 surround mix of the Inception soundtrack.', 'popularity': 1.96, 'poster_path': '/7uM4DyRVAcgagvhZoWrkrqMPbqV.jpg', 'release_date': '2010-12-07', 'title': 'Inception: Music from the Motion Picture', 'video': True, 'vote_average': 6.0, 'vote_count': 1}\n"
     ]
    }
   ],
   "source": [
    "print(result)"
   ]
  },
  {
   "cell_type": "code",
   "execution_count": 9,
   "id": "38f9517f",
   "metadata": {},
   "outputs": [
    {
     "name": "stdout",
     "output_type": "stream",
     "text": [
      "Two-Man Submarine\n",
      "The Three Superboys Strike Again\n",
      "Face in the Sky\n",
      "Spirou & Fantasio's Big Adventures\n",
      "The Fast and the Furious\n"
     ]
    }
   ],
   "source": [
    "API_Key = 'ed0ca52d6523bf1f96b88ff05f0efd35'\n",
    "params = {'api_key': API_Key}\n",
    "\n",
    "# Spider-Man: No Way Home\n",
    "# Inception\n",
    "params = {'api_key': API_Key, 'query': 'Inception'}\n",
    "res = requests.get('https://api.themoviedb.org/3/search/movie', params = params)\n",
    "res.status_code\n",
    "res = requests.get('https://api.themoviedb.org/3/movie/27205/similar', params = params)\n",
    "for i in res.json()['results'][:5]:\n",
    "    print(i['title'])\n",
    "#res.status_code"
   ]
  },
  {
   "cell_type": "markdown",
   "id": "319009c5",
   "metadata": {},
   "source": [
    "# Ques5:TMDb1.5"
   ]
  },
  {
   "cell_type": "code",
   "execution_count": 10,
   "id": "a2f9a547",
   "metadata": {},
   "outputs": [],
   "source": [
    "#Fetch the top rated english movies in the US region using the TMDb API. From the result,\n",
    "#print the first 10 movies which have original language as english. Also print their genres.\n",
    "#Note: Do not use the search/movies API for finding genres."
   ]
  },
  {
   "cell_type": "code",
   "execution_count": 55,
   "id": "3684530f",
   "metadata": {},
   "outputs": [
    {
     "name": "stdout",
     "output_type": "stream",
     "text": [
      "The Godfather - Drama, Crime, \n",
      "The Shawshank Redemption - Drama, Crime, \n",
      "Spider-Man: Across the Spider-Verse - Action, Adventure, Animation, Science Fiction, \n",
      "The Godfather Part II - Drama, Crime, \n",
      "Schindler's List - Drama, History, War, \n",
      "12 Angry Men - Drama, \n",
      "The Dark Knight - Drama, Action, Crime, Thriller, \n",
      "The Green Mile - Fantasy, Drama, Crime, \n",
      "Pulp Fiction - Thriller, Crime, \n",
      "Forrest Gump - Comedy, Drama, Romance, \n"
     ]
    }
   ],
   "source": [
    "import requests\n",
    "## Write your code here\n",
    "api_key='cc0ba8175fd24e42814ab857c0156bed'\n",
    "api_link='https://api.themoviedb.org/3'\n",
    "header={'Accept':'application/json'}\n",
    "params={'api_key':api_key,'region':'US'}\n",
    "response=requests.get(api_link+\"/movie/top_rated\",headers=header,params=params)\n",
    "data=response.json()\n",
    "results=data.get('results')\n",
    "title_array=[]\n",
    "genre_id_array=[]\n",
    "for result in results:\n",
    "    if result.get('original_language')=='en':\n",
    "        title_array.append(result.get('title'))\n",
    "        genre_id_array.append(result.get('genre_ids'))\n",
    "        \n",
    "response2=requests.get(api_link+\"/genre/movie/list\",headers=header,params=params)\n",
    "data2=response2.json()\n",
    "genres=data2.get('genres')\n",
    "mapping={}\n",
    "for genre in genres:\n",
    "    mapping[genre.get('id')]=genre.get('name')\n",
    "for i in range(10):\n",
    "    print(title_array[i],\"-\",end=\" \")\n",
    "    for id in genre_id_array[i]:\n",
    "        print(mapping.get(id),end=\", \")\n",
    "    print()"
   ]
  },
  {
   "cell_type": "markdown",
   "id": "9929092b",
   "metadata": {},
   "source": [
    "# Ques6:TMDb2.1"
   ]
  },
  {
   "cell_type": "code",
   "execution_count": 12,
   "id": "a90fe9a1",
   "metadata": {},
   "outputs": [],
   "source": [
    "#Find the name and birthplace of the present most popular person according to TMDb API.\n",
    "#Output Format:id\n",
    "#              name - birthplace"
   ]
  },
  {
   "cell_type": "code",
   "execution_count": 16,
   "id": "a101b301",
   "metadata": {},
   "outputs": [
    {
     "name": "stdout",
     "output_type": "stream",
     "text": [
      "2786960\n",
      "Gabriel Guevara - None\n"
     ]
    }
   ],
   "source": [
    "import requests\n",
    "## Write your code here\n",
    "api_key='cc0ba8175fd24e42814ab857c0156bed'\n",
    "api_link='https://api.themoviedb.org/3'\n",
    "params={'api_key':api_key}\n",
    "header={'Accept':'application/json'}\n",
    "response=requests.get(api_link+\"/person/popular\",headers=header,params=params)\n",
    "data=response.json()\n",
    "#print(data.get('results')[0])\n",
    "id_of_most_popular=data.get('results')[0].get('id')\n",
    "name_of_most_popular=data.get('results')[0].get('name')\n",
    "response2=requests.get(api_link+\"/person/\"+str(id_of_most_popular),params=params)\n",
    "data2=response2.json()\n",
    "print(id_of_most_popular)\n",
    "print(name_of_most_popular,\"-\",data2.get(\"place_of_birth\"))"
   ]
  },
  {
   "cell_type": "markdown",
   "id": "d7996524",
   "metadata": {},
   "source": [
    "# Ques7:TMDB2.2"
   ]
  },
  {
   "cell_type": "code",
   "execution_count": 17,
   "id": "9cdb0207",
   "metadata": {},
   "outputs": [],
   "source": [
    "#Fetch the Instagram and Twitter handle of Indian Actress \"Alia Bhatt\" from the TMDb API."
   ]
  },
  {
   "cell_type": "code",
   "execution_count": 18,
   "id": "541f17f7",
   "metadata": {},
   "outputs": [
    {
     "name": "stdout",
     "output_type": "stream",
     "text": [
      "aliaabhatt Aliaa08\n"
     ]
    }
   ],
   "source": [
    "import requests as req\n",
    "## Write your code here\n",
    "res_1=req.get(\"https://api.themoviedb.org/3/search/person\",params={\"api_key\":\"cc0ba8175fd24e42814ab857c0156bed\",\"query\":\"Alia Bhatt\",\"language\":\"hi\"})\n",
    "python_data=res_1.json()\n",
    "id=python_data[\"results\"][0][\"id\"]\n",
    "\n",
    "res_2=req.get(\"https://api.themoviedb.org/3/person/\"+str(id)+\"/external_ids\",params={\"api_key\":\"cc0ba8175fd24e42814ab857c0156bed\",\"person_id\":id})\n",
    "python_data=res_2.json()\n",
    "print(python_data[\"instagram_id\"],python_data[\"twitter_id\"])"
   ]
  },
  {
   "cell_type": "markdown",
   "id": "9b58fbd4",
   "metadata": {},
   "source": [
    "# Ques8:TMDb2.3"
   ]
  },
  {
   "cell_type": "code",
   "execution_count": 19,
   "id": "8e77655e",
   "metadata": {},
   "outputs": [],
   "source": [
    "#Fetch the names of the character played by Tom Cruise in the movies:\n",
    "#Top Gun\n",
    "#Mission: Impossible - Fallout\n",
    "#Minority Report\n",
    "#Edge of Tomorrow"
   ]
  },
  {
   "cell_type": "code",
   "execution_count": 23,
   "id": "4522d098",
   "metadata": {},
   "outputs": [
    {
     "name": "stdout",
     "output_type": "stream",
     "text": [
      "Lt. Pete 'Maverick' Mitchell\n",
      "Ethan Hunt\n",
      "Chief John Anderton\n",
      "Maj. William 'Bill' Cage\n"
     ]
    }
   ],
   "source": [
    "import requests\n",
    "import json\n",
    "## Write your code here\n",
    "api_key='cc0ba8175fd24e42814ab857c0156bed'\n",
    "movies=[\"Top Gun\",\"Mission: Impossible-Fallout\",\"Minority Report\",\"Edge of Tomorrow\"]\n",
    "\n",
    "def get_movie_id(title):\n",
    "    url=f\"https://api.themoviedb.org/3/search/movie?api_key={api_key}&query={title}\"\n",
    "    response=requests.get(url).json()\n",
    "    if response[\"total_results\"]>0:\n",
    "        return response[\"results\"][0][\"id\"]\n",
    "    else:\n",
    "        return None\n",
    "\n",
    "def get_character_names(movie_id):\n",
    "    url=f\"https://api.themoviedb.org/3/movie/{movie_id}/credits?api_key={api_key}\"\n",
    "    response=requests.get(url).json()\n",
    "    cast=response[\"cast\"]\n",
    "    return [c[\"character\"] for c in cast if c[\"name\"]==\"Tom Cruise\"]\n",
    "\n",
    "for movie in movies:\n",
    "    movie_id=get_movie_id(movie)\n",
    "    if movie_id:\n",
    "        character_names=get_character_names(movie_id)\n",
    "        if character_names:\n",
    "            print(character_names[0])\n",
    "        else:\n",
    "            print(f\"No character information found for {movie}\")\n",
    "    else:\n",
    "         print(f\"{movie} not found on TMDb\")   "
   ]
  },
  {
   "cell_type": "code",
   "execution_count": 21,
   "id": "8c822412",
   "metadata": {},
   "outputs": [],
   "source": [
    "#Aliter:"
   ]
  },
  {
   "cell_type": "code",
   "execution_count": 24,
   "id": "5da6711c",
   "metadata": {},
   "outputs": [
    {
     "ename": "JSONDecodeError",
     "evalue": "Expecting value: line 1 column 1 (char 0)",
     "output_type": "error",
     "traceback": [
      "\u001b[1;31m---------------------------------------------------------------------------\u001b[0m",
      "\u001b[1;31mJSONDecodeError\u001b[0m                           Traceback (most recent call last)",
      "File \u001b[1;32m~\\AppData\\Local\\Programs\\Python\\Python310\\lib\\site-packages\\requests\\models.py:971\u001b[0m, in \u001b[0;36mResponse.json\u001b[1;34m(self, **kwargs)\u001b[0m\n\u001b[0;32m    970\u001b[0m \u001b[38;5;28;01mtry\u001b[39;00m:\n\u001b[1;32m--> 971\u001b[0m     \u001b[38;5;28;01mreturn\u001b[39;00m complexjson\u001b[38;5;241m.\u001b[39mloads(\u001b[38;5;28mself\u001b[39m\u001b[38;5;241m.\u001b[39mtext, \u001b[38;5;241m*\u001b[39m\u001b[38;5;241m*\u001b[39mkwargs)\n\u001b[0;32m    972\u001b[0m \u001b[38;5;28;01mexcept\u001b[39;00m JSONDecodeError \u001b[38;5;28;01mas\u001b[39;00m e:\n\u001b[0;32m    973\u001b[0m     \u001b[38;5;66;03m# Catch JSON-related errors and raise as requests.JSONDecodeError\u001b[39;00m\n\u001b[0;32m    974\u001b[0m     \u001b[38;5;66;03m# This aliases json.JSONDecodeError and simplejson.JSONDecodeError\u001b[39;00m\n",
      "File \u001b[1;32m~\\AppData\\Local\\Programs\\Python\\Python310\\lib\\json\\__init__.py:346\u001b[0m, in \u001b[0;36mloads\u001b[1;34m(s, cls, object_hook, parse_float, parse_int, parse_constant, object_pairs_hook, **kw)\u001b[0m\n\u001b[0;32m    343\u001b[0m \u001b[38;5;28;01mif\u001b[39;00m (\u001b[38;5;28mcls\u001b[39m \u001b[38;5;129;01mis\u001b[39;00m \u001b[38;5;28;01mNone\u001b[39;00m \u001b[38;5;129;01mand\u001b[39;00m object_hook \u001b[38;5;129;01mis\u001b[39;00m \u001b[38;5;28;01mNone\u001b[39;00m \u001b[38;5;129;01mand\u001b[39;00m\n\u001b[0;32m    344\u001b[0m         parse_int \u001b[38;5;129;01mis\u001b[39;00m \u001b[38;5;28;01mNone\u001b[39;00m \u001b[38;5;129;01mand\u001b[39;00m parse_float \u001b[38;5;129;01mis\u001b[39;00m \u001b[38;5;28;01mNone\u001b[39;00m \u001b[38;5;129;01mand\u001b[39;00m\n\u001b[0;32m    345\u001b[0m         parse_constant \u001b[38;5;129;01mis\u001b[39;00m \u001b[38;5;28;01mNone\u001b[39;00m \u001b[38;5;129;01mand\u001b[39;00m object_pairs_hook \u001b[38;5;129;01mis\u001b[39;00m \u001b[38;5;28;01mNone\u001b[39;00m \u001b[38;5;129;01mand\u001b[39;00m \u001b[38;5;129;01mnot\u001b[39;00m kw):\n\u001b[1;32m--> 346\u001b[0m     \u001b[38;5;28;01mreturn\u001b[39;00m \u001b[43m_default_decoder\u001b[49m\u001b[38;5;241;43m.\u001b[39;49m\u001b[43mdecode\u001b[49m\u001b[43m(\u001b[49m\u001b[43ms\u001b[49m\u001b[43m)\u001b[49m\n\u001b[0;32m    347\u001b[0m \u001b[38;5;28;01mif\u001b[39;00m \u001b[38;5;28mcls\u001b[39m \u001b[38;5;129;01mis\u001b[39;00m \u001b[38;5;28;01mNone\u001b[39;00m:\n",
      "File \u001b[1;32m~\\AppData\\Local\\Programs\\Python\\Python310\\lib\\json\\decoder.py:337\u001b[0m, in \u001b[0;36mJSONDecoder.decode\u001b[1;34m(self, s, _w)\u001b[0m\n\u001b[0;32m    333\u001b[0m \u001b[38;5;124;03m\"\"\"Return the Python representation of ``s`` (a ``str`` instance\u001b[39;00m\n\u001b[0;32m    334\u001b[0m \u001b[38;5;124;03mcontaining a JSON document).\u001b[39;00m\n\u001b[0;32m    335\u001b[0m \n\u001b[0;32m    336\u001b[0m \u001b[38;5;124;03m\"\"\"\u001b[39;00m\n\u001b[1;32m--> 337\u001b[0m obj, end \u001b[38;5;241m=\u001b[39m \u001b[38;5;28;43mself\u001b[39;49m\u001b[38;5;241;43m.\u001b[39;49m\u001b[43mraw_decode\u001b[49m\u001b[43m(\u001b[49m\u001b[43ms\u001b[49m\u001b[43m,\u001b[49m\u001b[43m \u001b[49m\u001b[43midx\u001b[49m\u001b[38;5;241;43m=\u001b[39;49m\u001b[43m_w\u001b[49m\u001b[43m(\u001b[49m\u001b[43ms\u001b[49m\u001b[43m,\u001b[49m\u001b[43m \u001b[49m\u001b[38;5;241;43m0\u001b[39;49m\u001b[43m)\u001b[49m\u001b[38;5;241;43m.\u001b[39;49m\u001b[43mend\u001b[49m\u001b[43m(\u001b[49m\u001b[43m)\u001b[49m\u001b[43m)\u001b[49m\n\u001b[0;32m    338\u001b[0m end \u001b[38;5;241m=\u001b[39m _w(s, end)\u001b[38;5;241m.\u001b[39mend()\n",
      "File \u001b[1;32m~\\AppData\\Local\\Programs\\Python\\Python310\\lib\\json\\decoder.py:355\u001b[0m, in \u001b[0;36mJSONDecoder.raw_decode\u001b[1;34m(self, s, idx)\u001b[0m\n\u001b[0;32m    354\u001b[0m \u001b[38;5;28;01mexcept\u001b[39;00m \u001b[38;5;167;01mStopIteration\u001b[39;00m \u001b[38;5;28;01mas\u001b[39;00m err:\n\u001b[1;32m--> 355\u001b[0m     \u001b[38;5;28;01mraise\u001b[39;00m JSONDecodeError(\u001b[38;5;124m\"\u001b[39m\u001b[38;5;124mExpecting value\u001b[39m\u001b[38;5;124m\"\u001b[39m, s, err\u001b[38;5;241m.\u001b[39mvalue) \u001b[38;5;28;01mfrom\u001b[39;00m \u001b[38;5;28mNone\u001b[39m\n\u001b[0;32m    356\u001b[0m \u001b[38;5;28;01mreturn\u001b[39;00m obj, end\n",
      "\u001b[1;31mJSONDecodeError\u001b[0m: Expecting value: line 1 column 1 (char 0)",
      "\nDuring handling of the above exception, another exception occurred:\n",
      "\u001b[1;31mJSONDecodeError\u001b[0m                           Traceback (most recent call last)",
      "Input \u001b[1;32mIn [24]\u001b[0m, in \u001b[0;36m<cell line: 9>\u001b[1;34m()\u001b[0m\n\u001b[0;32m      6\u001b[0m params\u001b[38;5;241m=\u001b[39m{\u001b[38;5;124m'\u001b[39m\u001b[38;5;124mquery\u001b[39m\u001b[38;5;124m'\u001b[39m:\u001b[38;5;124m\"\u001b[39m\u001b[38;5;124mTom Cruise\u001b[39m\u001b[38;5;124m\"\u001b[39m,\u001b[38;5;124m'\u001b[39m\u001b[38;5;124mapi_key\u001b[39m\u001b[38;5;124m'\u001b[39m:api_key}\n\u001b[0;32m      8\u001b[0m response\u001b[38;5;241m=\u001b[39mrequests\u001b[38;5;241m.\u001b[39mget(api_link\u001b[38;5;241m+\u001b[39m\u001b[38;5;124m\"\u001b[39m\u001b[38;5;124m/search/person\u001b[39m\u001b[38;5;124m\"\u001b[39m,headers\u001b[38;5;241m=\u001b[39mheader,params\u001b[38;5;241m=\u001b[39mparams)\n\u001b[1;32m----> 9\u001b[0m data\u001b[38;5;241m=\u001b[39m\u001b[43mresponse\u001b[49m\u001b[38;5;241;43m.\u001b[39;49m\u001b[43mjson\u001b[49m\u001b[43m(\u001b[49m\u001b[43m)\u001b[49m\n\u001b[0;32m     10\u001b[0m results\u001b[38;5;241m=\u001b[39mdata\u001b[38;5;241m.\u001b[39mget(\u001b[38;5;124m'\u001b[39m\u001b[38;5;124mresults\u001b[39m\u001b[38;5;124m'\u001b[39m)\n\u001b[0;32m     11\u001b[0m \u001b[38;5;28mid\u001b[39m\u001b[38;5;241m=\u001b[39mresults[\u001b[38;5;241m0\u001b[39m][\u001b[38;5;124m'\u001b[39m\u001b[38;5;124mid\u001b[39m\u001b[38;5;124m'\u001b[39m]\n",
      "File \u001b[1;32m~\\AppData\\Local\\Programs\\Python\\Python310\\lib\\site-packages\\requests\\models.py:975\u001b[0m, in \u001b[0;36mResponse.json\u001b[1;34m(self, **kwargs)\u001b[0m\n\u001b[0;32m    971\u001b[0m     \u001b[38;5;28;01mreturn\u001b[39;00m complexjson\u001b[38;5;241m.\u001b[39mloads(\u001b[38;5;28mself\u001b[39m\u001b[38;5;241m.\u001b[39mtext, \u001b[38;5;241m*\u001b[39m\u001b[38;5;241m*\u001b[39mkwargs)\n\u001b[0;32m    972\u001b[0m \u001b[38;5;28;01mexcept\u001b[39;00m JSONDecodeError \u001b[38;5;28;01mas\u001b[39;00m e:\n\u001b[0;32m    973\u001b[0m     \u001b[38;5;66;03m# Catch JSON-related errors and raise as requests.JSONDecodeError\u001b[39;00m\n\u001b[0;32m    974\u001b[0m     \u001b[38;5;66;03m# This aliases json.JSONDecodeError and simplejson.JSONDecodeError\u001b[39;00m\n\u001b[1;32m--> 975\u001b[0m     \u001b[38;5;28;01mraise\u001b[39;00m RequestsJSONDecodeError(e\u001b[38;5;241m.\u001b[39mmsg, e\u001b[38;5;241m.\u001b[39mdoc, e\u001b[38;5;241m.\u001b[39mpos)\n",
      "\u001b[1;31mJSONDecodeError\u001b[0m: Expecting value: line 1 column 1 (char 0)"
     ]
    }
   ],
   "source": [
    "import requests\n",
    "import json\n",
    "api_key='cc0ba8175fd24e42814ab857c0156bed'\n",
    "api_link=\"https://themoviedb.org/3\"\n",
    "header={\"Accept\":\"application/json\"}\n",
    "params={'query':\"Tom Cruise\",'api_key':api_key}\n",
    "\n",
    "response=requests.get(api_link+\"/search/person\",headers=header,params=params)\n",
    "data=response.json()\n",
    "results=data.get('results')\n",
    "id=results[0]['id']\n",
    "\n",
    "params2={'api_key':api_key}\n",
    "response2=requests.get(api_link+'/person'+str(id)+'/movie_credits',headers=header,params=params2)\n",
    "data2=response2.json()\n",
    "cast_result=data2.get('cast')\n",
    "\n",
    "for cast in cast_result:\n",
    "    if cast.get('original_title')=='Top Gun':\n",
    "        print(cast.get('character'))\n",
    "for cast in cast_result:\n",
    "    if cast.get('original_title')=='Mission: Impossible-Fallout':\n",
    "        print(cast.get('character'))\n",
    "for cast in cast_result:\n",
    "    if cast.get('original_title')=='Minority Report':\n",
    "        print(cast.get('character'))\n",
    "for cast in cast_result:\n",
    "    if cast.get('original_title')=='Edge of Tomorrow':\n",
    "        print(cast.get('character'))\n",
    "\n",
    "        "
   ]
  },
  {
   "cell_type": "markdown",
   "id": "0f4fb452",
   "metadata": {},
   "source": [
    "# Ques9:TMDb2.4"
   ]
  },
  {
   "cell_type": "code",
   "execution_count": 25,
   "id": "7d64d8be",
   "metadata": {},
   "outputs": [],
   "source": [
    "#Did James McAvoy play a role in the movie Deadpool 2. Print Yes or No."
   ]
  },
  {
   "cell_type": "code",
   "execution_count": 41,
   "id": "ac0c35a7",
   "metadata": {},
   "outputs": [
    {
     "name": "stdout",
     "output_type": "stream",
     "text": [
      "Yes\n"
     ]
    }
   ],
   "source": [
    "import requests\n",
    "import json\n",
    "## Write your code here\n",
    "api_key='cc0ba8175fd24e42814ab857c0156bed'\n",
    "search_url=f\"https://api.themoviedb.org/3/search/movie?api_key={api_key}&query=Deadpool+2\"\n",
    "search_response=requests.get(search_url).json()\n",
    "movie_id=search_response['results'][0]['id']\n",
    "#print(movie_id)\n",
    "credits_url=f'https://api.themoviedb.org/3/movie/{movie_id}/credits?api_key={api_key}'\n",
    "credits_response=requests.get(credits_url).json()\n",
    "cast=credits_response['cast']\n",
    "mcavoy_roles=[role for role in cast if role['name']=='James McAvoy']\n",
    "if mcavoy_roles:\n",
    "    print(\"Yes\")\n",
    "else:\n",
    "    print(\"No\")"
   ]
  },
  {
   "cell_type": "markdown",
   "id": "cd897f5c",
   "metadata": {},
   "source": [
    "# Ques10:TMDb2.5"
   ]
  },
  {
   "cell_type": "code",
   "execution_count": 32,
   "id": "796fb18c",
   "metadata": {},
   "outputs": [],
   "source": [
    "#Using the result obtained in previous question, find out if James McAvoy was credited for his role in movie Deadpool 2. \n",
    "#Print Yes or No."
   ]
  },
  {
   "cell_type": "code",
   "execution_count": 33,
   "id": "91f261a4",
   "metadata": {},
   "outputs": [
    {
     "name": "stdout",
     "output_type": "stream",
     "text": [
      "No\n"
     ]
    }
   ],
   "source": [
    "import requests\n",
    "## Write your code here\n",
    "api_key='cc0ba8175fd24e42814ab857c0156bed'\n",
    "\n",
    "res=requests.get('https://api.themoviedb.org/3/search/person',params={'api_key':api_key,'query':'McAvoy'})\n",
    "data=res.json()\n",
    "ID=data['results'][0]['id']\n",
    "\n",
    "res2=requests.get(f'https://api.themoviedb.org/3/person/{ID}/movie_credits',params={'api_key':api_key})\n",
    "data=res2.json()\n",
    "for result in data['cast']:\n",
    "    if result['title']=='Deadpool 2':\n",
    "        a=result['character']\n",
    "        print('No')"
   ]
  },
  {
   "cell_type": "markdown",
   "id": "ca03a9ef",
   "metadata": {},
   "source": [
    "# Ques11:TMDb3.1"
   ]
  },
  {
   "cell_type": "code",
   "execution_count": 42,
   "id": "affc8165",
   "metadata": {},
   "outputs": [],
   "source": [
    "#Fetch the overview of the TV Show \"FRIENDS\" using TMDb API."
   ]
  },
  {
   "cell_type": "code",
   "execution_count": 43,
   "id": "1cf81735",
   "metadata": {},
   "outputs": [
    {
     "name": "stdout",
     "output_type": "stream",
     "text": [
      "Six young people from New York City, on their own and struggling to survive in the real world, find the companionship, comfort and support they get from each other to be the perfect antidote to the pressures of life.\n",
      "Friends is a short-lived kids-oriented drama that aired in the spring of 1979. The series, which was produced by Aaron Spelling and aired on ABC, starred Charlie Aiken, Jill Whelan, and Jarrod Johnson as three Southern Californian 11-year-olds. Karen Morrow also appeared. Only five one-hour episodes were produced before the series was cancelled.\n",
      "\n"
     ]
    }
   ],
   "source": [
    "import requests\n",
    "\n",
    "api_key='cc0ba8175fd24e42814ab857c0156bed'\n",
    "api_link='https://api.themoviedb.org/3'\n",
    "\n",
    "params={'query':'Friends','api_key':api_key}\n",
    "header={'Accept':'application/json'}\n",
    "\n",
    "# Making the api request to search for TV shows matching the query parameter\n",
    "response=requests.get(api_link+\"/search/tv\",headers=header,params=params)\n",
    "\n",
    "# Extracting the json data from the response object\n",
    "data=response.json()\n",
    "\n",
    "# Extracting the list of TV shows from JSON data\n",
    "results=data.get('results')\n",
    "\n",
    "#looping over the list of TV shows to  find the overview of the show\"Friends\"\n",
    "for result in results:\n",
    "    if result.get('name')==\"Friends\":\n",
    "        print(result.get('overview'))"
   ]
  },
  {
   "cell_type": "markdown",
   "id": "a3c723bb",
   "metadata": {},
   "source": [
    "# Ques12:TMDb3.2"
   ]
  },
  {
   "cell_type": "code",
   "execution_count": 44,
   "id": "04e364e1",
   "metadata": {},
   "outputs": [],
   "source": [
    "#Fetch the name and air date of S06E05 of the TV Show 'The Big Bang Theory' from TMDb API."
   ]
  },
  {
   "cell_type": "code",
   "execution_count": 49,
   "id": "bd5857e3",
   "metadata": {},
   "outputs": [
    {
     "name": "stdout",
     "output_type": "stream",
     "text": [
      "{'adult': False, 'backdrop_path': '/sccDflItNho4OiHkzpiDxB2fUFw.jpg', 'genre_ids': [35], 'id': 1418, 'origin_country': ['US'], 'original_language': 'en', 'original_name': 'The Big Bang Theory', 'overview': \"The sitcom is centered on five characters living in Pasadena, California: roommates Leonard Hofstadter and Sheldon Cooper; Penny, a waitress and aspiring actress who lives across the hall; and Leonard and Sheldon's equally geeky and socially awkward friends and co-workers, mechanical engineer Howard Wolowitz and astrophysicist Raj Koothrappali. The geekiness and intellect of the four guys is contrasted for comic effect with Penny's social skills and common sense.\", 'popularity': 135.186, 'poster_path': '/ooBGRQBdbGzBxAVfExiO8r7kloA.jpg', 'first_air_date': '2007-09-24', 'name': 'The Big Bang Theory', 'vote_average': 7.9, 'vote_count': 10064}\n"
     ]
    },
    {
     "ename": "KeyError",
     "evalue": "'name'",
     "output_type": "error",
     "traceback": [
      "\u001b[1;31m---------------------------------------------------------------------------\u001b[0m",
      "\u001b[1;31mKeyError\u001b[0m                                  Traceback (most recent call last)",
      "Input \u001b[1;32mIn [49]\u001b[0m, in \u001b[0;36m<cell line: 15>\u001b[1;34m()\u001b[0m\n\u001b[0;32m     12\u001b[0m response\u001b[38;5;241m=\u001b[39mrequests\u001b[38;5;241m.\u001b[39mget(url,params\u001b[38;5;241m=\u001b[39mparams)\n\u001b[0;32m     13\u001b[0m data\u001b[38;5;241m=\u001b[39mresponse\u001b[38;5;241m.\u001b[39mjson()\n\u001b[1;32m---> 15\u001b[0m episode_name\u001b[38;5;241m=\u001b[39m\u001b[43mdata\u001b[49m\u001b[43m[\u001b[49m\u001b[38;5;124;43m'\u001b[39;49m\u001b[38;5;124;43mname\u001b[39;49m\u001b[38;5;124;43m'\u001b[39;49m\u001b[43m]\u001b[49m\n\u001b[0;32m     16\u001b[0m air_date\u001b[38;5;241m=\u001b[39mdata[\u001b[38;5;124m\"\u001b[39m\u001b[38;5;124mair_date\u001b[39m\u001b[38;5;124m\"\u001b[39m]\n\u001b[0;32m     18\u001b[0m \u001b[38;5;28mprint\u001b[39m(\u001b[38;5;124mf\u001b[39m\u001b[38;5;124m\"\u001b[39m\u001b[38;5;132;01m{\u001b[39;00mepisode_name\u001b[38;5;132;01m}\u001b[39;00m\u001b[38;5;124m-\u001b[39m\u001b[38;5;132;01m{\u001b[39;00mair_date\u001b[38;5;132;01m}\u001b[39;00m\u001b[38;5;124m\"\u001b[39m)\n",
      "\u001b[1;31mKeyError\u001b[0m: 'name'"
     ]
    }
   ],
   "source": [
    "import requests\n",
    "api_key='cc0ba8175fd24e42814ab857c0156bed'\n",
    "api_link='https://api.themoviedb.org/3/search/tv'\n",
    "params={\"api_key\":api_key,\"query\":\"The Big Bang Theory\"}\n",
    "response=requests.get(api_link,params=params)\n",
    "data=response.json()\n",
    "print(data[\"results\"][0])\n",
    "show_id=data[\"results\"][0]['id']\n",
    "\n",
    "url=f\"https://api.themoviedb.org/3/tv/{show_id}/season/6/episode5\"\n",
    "params={\"api_key\":api_key}\n",
    "response=requests.get(url,params=params)\n",
    "data=response.json()\n",
    "\n",
    "episode_name=data['name']\n",
    "air_date=data[\"air_date\"]\n",
    "\n",
    "print(f\"{episode_name}-{air_date}\")"
   ]
  },
  {
   "cell_type": "code",
   "execution_count": null,
   "id": "ada20941",
   "metadata": {},
   "outputs": [],
   "source": [
    "#Aliter:"
   ]
  },
  {
   "cell_type": "code",
   "execution_count": 57,
   "id": "1a8ba680",
   "metadata": {},
   "outputs": [
    {
     "name": "stdout",
     "output_type": "stream",
     "text": [
      "The Holographic Excitation - 2012-10-25\n"
     ]
    }
   ],
   "source": [
    "import requests\n",
    "api_key='cc0ba8175fd24e42814ab857c0156bed'\n",
    "api_link='https://api.themoviedb.org/3/'\n",
    "\n",
    "params={\"api_key\":api_key}\n",
    "response2=requests.get(api_link + \"/tv/\"+\"1418\"+\"/season/\"+\"6\"+\"/episode/\"+\"5\",  params=params)\n",
    "data=response2.json()\n",
    "\n",
    "print(data[\"name\"],\"-\",data[\"air_date\"])"
   ]
  },
  {
   "cell_type": "markdown",
   "id": "2410c764",
   "metadata": {},
   "source": [
    "# Ques13:TMDb3.3"
   ]
  },
  {
   "cell_type": "code",
   "execution_count": 50,
   "id": "0e8b55db",
   "metadata": {},
   "outputs": [],
   "source": [
    "#Fetch the trending TV Shows for the week from the TMDb API and print the taglines of the top 5 shows.\n",
    "#If there is no tagline, print 'Empty' instead"
   ]
  },
  {
   "cell_type": "code",
   "execution_count": 51,
   "id": "4c2a0ce0",
   "metadata": {},
   "outputs": [
    {
     "name": "stdout",
     "output_type": "stream",
     "text": [
      "Who do you trust?\n",
      "The future is bright\n",
      "Empty\n",
      "The truth will surface.\n",
      "Keep your enemies close.\n"
     ]
    }
   ],
   "source": [
    "import requests\n",
    "## Write your code here\n",
    "api_key='cc0ba8175fd24e42814ab857c0156bed'\n",
    "api_link='https://api.themoviedb.org/3'\n",
    "params={'api_key':api_key}\n",
    "header={'Accept':'application/json'}\n",
    "response=requests.get(api_link+\"/trending/tv/week\",headers=header,params=params)\n",
    "data=response.json()\n",
    "results=data.get(\"results\")\n",
    "data\n",
    "ids=[]\n",
    "for result in results[:5]:\n",
    "    ids.append(result.get(\"id\"))\n",
    "for id in ids:\n",
    "    response2=requests.get(api_link+\"/tv/\"+str(id),headers=header,params=params)\n",
    "    data2=response2.json()\n",
    "    if (data2.get(\"tagline\"))!=\"\":\n",
    "        print(data2.get(\"tagline\"))\n",
    "    else:\n",
    "        print(\"Empty\")\n",
    "    "
   ]
  },
  {
   "cell_type": "markdown",
   "id": "5f23f142",
   "metadata": {},
   "source": [
    "# Ques14:TMDb3.4"
   ]
  },
  {
   "cell_type": "code",
   "execution_count": 52,
   "id": "98de764e",
   "metadata": {},
   "outputs": [],
   "source": [
    "#Print the names of all the TV shows to be aired today whose original language is english."
   ]
  },
  {
   "cell_type": "code",
   "execution_count": 53,
   "id": "90c7f890",
   "metadata": {},
   "outputs": [
    {
     "name": "stdout",
     "output_type": "stream",
     "text": [
      "Love Island\n",
      "House Hunters\n",
      "Naked News\n",
      "Casualty\n",
      "We Baby Bears\n",
      "Helluva Boss\n",
      "Kiff\n",
      "Dino Ranch\n",
      "On Patrol: Live\n",
      "Great British Railway Journeys\n",
      "Hamster & Gretel\n",
      "Extraordinary Birder with Christian Cooper\n",
      "On Patrol: First Shift\n",
      "Hailey's On It!\n",
      "Later... with Jools Holland\n",
      "Pointless Celebrities\n",
      "WWE The SmackDown LowDown\n",
      "Love & Marriage Huntsville\n",
      "All Elite Wrestling: Collision\n",
      "Concordia\n",
      "New York Homicide\n",
      "Symon's Dinners Cooking Out\n",
      "Marriage with Benefits\n",
      "Flip This House\n",
      "Act Your Age\n",
      "Theme Song Takeover\n",
      "Ancient Egypt by Train with Alice Roberts\n",
      "Solid Archery Mechanics\n",
      "Do Dil Mil Rahe Hai\n",
      "齊藤京子(日向坂46)MTV Unplugged\n",
      "Build It Forward\n",
      "BOSAI: Science that Can Save Your Life\n"
     ]
    }
   ],
   "source": [
    "import requests\n",
    "api_key='cc0ba8175fd24e42814ab857c0156bed'\n",
    "api_link='https://api.themoviedb.org/3'\n",
    "\n",
    "#set the parameters for request\n",
    "params={'language':\"en\",'api_key':api_key}\n",
    "\n",
    "#set the headers for requests\n",
    "headers={'Accept':'application/json'}\n",
    "\n",
    "#send the request to get the TV shows airing today\n",
    "response=requests.get(api_link+\"/tv/airing_today/\",headers=headers,params=params)\n",
    "\n",
    "#get the response data in JSON format\n",
    "data=response.json()\n",
    "\n",
    "#get the total number of pages in the response\n",
    "page_number=data.get('total_pages')\n",
    "\n",
    "#loop through every page of response\n",
    "for i in range(1,page_number+1):\n",
    "    \n",
    "    #set the parameter for the requests to get the current page of TV show\n",
    "    params={'language':'en','api_key':api_key,'page':i}\n",
    "    \n",
    "    #send the request to get the current page of TV show\n",
    "    response=requests.get(api_link+\"/tv/airing_today\",headers=headers,params=params)\n",
    "    \n",
    "    #get the response data in JSON format\n",
    "    data=response.json()\n",
    "    \n",
    "    #get the TV shows from the current page\n",
    "    results=data.get('results')\n",
    "    \n",
    "    #loop through each TV show on the current page\n",
    "    for result in results:\n",
    "        if result.get('original_language')=='en':\n",
    "            print(result.get('name'))"
   ]
  },
  {
   "cell_type": "markdown",
   "id": "ffb3150c",
   "metadata": {},
   "source": [
    "# Ques15:TMDb3.5"
   ]
  },
  {
   "cell_type": "code",
   "execution_count": 54,
   "id": "01f350e6",
   "metadata": {},
   "outputs": [],
   "source": [
    "#Count the number of males and females in the cast of \"Money Heist\" using the TMDb API."
   ]
  },
  {
   "cell_type": "code",
   "execution_count": null,
   "id": "3abe13aa",
   "metadata": {},
   "outputs": [],
   "source": []
  }
 ],
 "metadata": {
  "kernelspec": {
   "display_name": "Python 3 (ipykernel)",
   "language": "python",
   "name": "python3"
  },
  "language_info": {
   "codemirror_mode": {
    "name": "ipython",
    "version": 3
   },
   "file_extension": ".py",
   "mimetype": "text/x-python",
   "name": "python",
   "nbconvert_exporter": "python",
   "pygments_lexer": "ipython3",
   "version": "3.10.5"
  }
 },
 "nbformat": 4,
 "nbformat_minor": 5
}
